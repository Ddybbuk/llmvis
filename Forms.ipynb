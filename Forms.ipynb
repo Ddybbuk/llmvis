{
  "cells": [
    {
      "cell_type": "markdown",
      "metadata": {
        "id": "view-in-github",
        "colab_type": "text"
      },
      "source": [
        "<a href=\"https://colab.research.google.com/github/Ddybbuk/llmvis/blob/main/Forms.ipynb\" target=\"_parent\"><img src=\"https://colab.research.google.com/assets/colab-badge.svg\" alt=\"Open In Colab\"/></a>"
      ]
    },
    {
      "cell_type": "markdown",
      "metadata": {
        "id": "_7gRpQLXQSID"
      },
      "source": [
        "# Forms\n",
        "\n",
        "Forms provide an easy way to parameterize code. From a code cell, select **Insert → Add form field**.  When you change the value in a form, the corresponding value in the code will change."
      ]
    },
    {
      "cell_type": "code",
      "source": [],
      "metadata": {
        "id": "KVPTF4d7PG84"
      },
      "execution_count": null,
      "outputs": []
    },
    {
      "cell_type": "code",
      "execution_count": null,
      "metadata": {
        "id": "3jKM6GfzlgpS"
      },
      "outputs": [],
      "source": [
        "# @title String fields\n",
        "\n",
        "text = 'value' # @param {type:\"string\"}\n",
        "dropdown = '1st option' # @param [\"1st option\", \"2nd option\", \"3rd option\"]\n",
        "text_and_dropdown = 'value' # @param [\"1st option\", \"2nd option\", \"3rd option\"] {allow-input: true}\n",
        "text_with_placeholder = '' # @param {type:\"string\", placeholder:\"enter a value\"}\n",
        "\n",
        "print(text)\n",
        "print(dropdown)\n",
        "print(text_and_dropdown)\n",
        "print(text_with_placeholder)"
      ]
    },
    {
      "cell_type": "code",
      "execution_count": null,
      "metadata": {
        "id": "bf5LUmgZt-kT"
      },
      "outputs": [],
      "source": [
        "# @title Raw fields\n",
        "\n",
        "raw_input = None # @param {type:\"raw\"}\n",
        "raw_dropdown = raw_input # @param [1, \"raw_input\", \"False\", \"'string'\"] {type:\"raw\"}\n",
        "raw_with_placeholder = None # @param {type:\"raw\", placeholder:\"enter a value\"}\n",
        "\n",
        "print(raw_input)\n",
        "print(raw_dropdown)\n",
        "print(raw_with_placeholder)"
      ]
    },
    {
      "cell_type": "code",
      "execution_count": null,
      "metadata": {
        "id": "aw5lgeRbubeF"
      },
      "outputs": [],
      "source": [
        "# @title Date fields\n",
        "date_input = '2018-03-22' # @param {type:\"date\"}\n",
        "\n",
        "print(date_input)"
      ]
    },
    {
      "cell_type": "code",
      "execution_count": null,
      "metadata": {
        "id": "eFN7-fUKs-Bu"
      },
      "outputs": [],
      "source": [
        "# @title Number fields\n",
        "number_input = 10.0 # @param {type:\"number\"}\n",
        "number_slider = 0 # @param {type:\"slider\", min:-1, max:1, step:0.1}\n",
        "\n",
        "integer_input = 10 # @param {type:\"integer\"}\n",
        "integer_slider = 1 # @param {type:\"slider\", min:0, max:100, step:1}\n",
        "\n",
        "print(number_input)\n",
        "print(number_slider)\n",
        "\n",
        "print(integer_input)\n",
        "print(integer_slider)"
      ]
    },
    {
      "cell_type": "code",
      "execution_count": null,
      "metadata": {
        "id": "ig8PIYeLtM8g"
      },
      "outputs": [],
      "source": [
        "# @title Boolean fields\n",
        "boolean_checkbox = True # @param {type:\"boolean\"}\n",
        "boolean_dropdown = True # @param [\"False\", \"True\"] {type:\"raw\"}\n",
        "\n",
        "print(boolean_checkbox)\n",
        "print(boolean_dropdown)"
      ]
    },
    {
      "cell_type": "code",
      "execution_count": null,
      "metadata": {
        "id": "ZCEBZPwUDGOg"
      },
      "outputs": [],
      "source": [
        "# @title ## Markdown\n",
        "# @markdown You can also include Markdown in forms.\n",
        "\n",
        "# @markdown ---\n",
        "# @markdown ### Enter a file path:\n",
        "file_path = \"\" # @param {type:\"string\"}\n",
        "# @markdown ---\n",
        "\n"
      ]
    },
    {
      "cell_type": "markdown",
      "metadata": {
        "id": "hVEG5D5TxFKW"
      },
      "source": [
        "# Hiding code\n",
        "\n",
        "You can change the view of the form by selecting **View → Show/hide code** or using the toolbar above the selected code cell. You can see both code and the form, just the form, or just the code."
      ]
    },
    {
      "cell_type": "code",
      "execution_count": null,
      "metadata": {
        "id": "EcCggMLi0KDE"
      },
      "outputs": [],
      "source": []
    },
    {
      "cell_type": "code",
      "execution_count": null,
      "metadata": {
        "id": "ad-fjFOQxoFG"
      },
      "outputs": [],
      "source": [
        "# @title Click `Show code` in the code cell. { display-mode: \"form\" }\n",
        "\n",
        "option1 = 'A' # @param [\"A\", \"B\", \"C\"]\n",
        "print('You selected', option1)\n"
      ]
    },
    {
      "cell_type": "code",
      "execution_count": null,
      "metadata": {
        "id": "h9aZYKhly2h_"
      },
      "outputs": [],
      "source": [
        "# @title After running this cell manually, it will auto-run if you change the selected value. { run: \"auto\" }\n",
        "\n",
        "option2 = \"A\" # @param [\"A\", \"B\", \"C\"]\n",
        "print('You selected', option2)\n"
      ]
    },
    {
      "cell_type": "markdown",
      "metadata": {
        "id": "62YnDE7i9dqP"
      },
      "source": [
        "# Using Jupyter Widgets for interactivity\n",
        "\n",
        "Colab supports the core set of Jupyter Widgets for providing interactions between Python and the browser.\n",
        "\n",
        "See the official [Jupyter Widgets documentation](https://ipywidgets.readthedocs.io/en/latest/examples/Widget%20Basics.html)."
      ]
    },
    {
      "cell_type": "code",
      "execution_count": null,
      "metadata": {
        "id": "WPib9hvO8Pmb"
      },
      "outputs": [],
      "source": [
        "import ipywidgets as widgets\n",
        "from IPython.display import display\n",
        "button = widgets.Button(description=\"Click Me!\")\n",
        "output = widgets.Output()\n",
        "\n",
        "def on_button_clicked(b):\n",
        "  # Display the message within the output widget.\n",
        "  with output:\n",
        "    print(\"Button clicked.\")\n",
        "\n",
        "button.on_click(on_button_clicked)\n",
        "display(button, output)"
      ]
    },
    {
      "cell_type": "markdown",
      "metadata": {
        "id": "F9zl8NDWCKbS"
      },
      "source": [
        "### Using Jupyter Widgets sliders"
      ]
    },
    {
      "cell_type": "code",
      "execution_count": null,
      "metadata": {
        "id": "8JNPFRy9BBhS"
      },
      "outputs": [],
      "source": [
        "import ipywidgets as widgets\n",
        "slider = widgets.IntSlider(value=5, max=10)\n",
        "display(slider)"
      ]
    },
    {
      "cell_type": "code",
      "execution_count": null,
      "metadata": {
        "id": "KxoHySheBE0G"
      },
      "outputs": [],
      "source": [
        "# The current value of the slider\n",
        "slider.value"
      ]
    },
    {
      "cell_type": "code",
      "source": [
        "import torch\n",
        "from PIL import Image, ImageDraw\n",
        "import clip\n",
        "import matplotlib.pyplot as plt\n",
        "import numpy as np\n",
        "\n",
        "# Function to allow user to mark defects on the image\n",
        "def mark_defect(image_path):\n",
        "    img = Image.open(image_path).convert(\"RGBA\")\n",
        "    plt.figure(figsize=(10, 10))\n",
        "    plt.imshow(img)\n",
        "    points = plt.ginput(n=1, timeout=0)\n",
        "    plt.close()\n",
        "    return points[0]\n",
        "\n",
        "# Load the CLIP model and the preprocess function\n",
        "model, preprocess = clip.load(\"ViT-B/32\", device='cuda' if torch.cuda.is_available() else 'cpu')\n",
        "\n",
        "# Specify the path to your uploaded image\n",
        "img_path = \"/content/drive/My Drive/TDJORAF438.jpg\"\n",
        "\n",
        "# Preprocess the image and move it to the appropriate device\n",
        "original_image = Image.open(img_path).convert(\"RGBA\")\n",
        "image = preprocess(original_image).unsqueeze(0).to('cuda' if torch.cuda.is_available() else 'cpu')\n",
        "\n",
        "# Tokenize the text inputs and move them to the appropriate device\n",
        "text_inputs = clip.tokenize([\"OK\", \"Scratch\", \"Dent\"]).to('cuda' if torch.cuda.is_available() else 'cpu')\n",
        "\n",
        "# Encode the image and text features\n",
        "with torch.no_grad():\n",
        "    image_features = model.encode_image(image)\n",
        "    text_features = model.encode_text(text_inputs)\n",
        "\n",
        "# Compute cosine similarity between image and text features\n",
        "similarity = torch.nn.functional.cosine_similarity(image_features, text_features)\n",
        "\n",
        "# Get the predicted class based on the highest similarity score\n",
        "predicted_class = [\"OK\", \"Scratch\", \"Dent\"][similarity.argmax()]\n",
        "\n",
        "# Print the predicted defect type\n",
        "print(f\"Predicted defect type: {predicted_class}\")\n",
        "\n",
        "# Display the preprocessed image\n",
        "preprocessed_image = image.squeeze().permute(1, 2, 0).cpu().numpy()\n",
        "plt.figure(figsize=(10, 10))\n",
        "plt.imshow(preprocessed_image)\n",
        "plt.axis('off')\n",
        "plt.title(\"Preprocessed Image\")\n",
        "plt.show()\n",
        "\n",
        "# Allow user to mark the defect on the final image\n",
        "draw = ImageDraw.Draw(original_image)\n",
        "\n",
        "# Mark defect if predicted class is not \"OK\"\n",
        "if predicted_class != \"OK\":\n",
        "    defect_point = mark_defect(img_path)\n",
        "    draw.rectangle([defect_point[0] - 10, defect_point[1] - 10, defect_point[0] + 10, defect_point[1] + 10], outline=\"red\", width=5)\n",
        "\n",
        "# Display the final image with the defect marked\n",
        "plt.figure(figsize=(10, 10))\n",
        "plt.imshow(original_image)\n",
        "plt.axis('off')\n",
        "plt.title(f\"Predicted Defect: {predicted_class}\")\n",
        "plt.show()\n"
      ],
      "metadata": {
        "id": "1ju5ugbUPIvn"
      },
      "execution_count": null,
      "outputs": []
    },
    {
      "cell_type": "code",
      "source": [
        "import torch\n",
        "from PIL import Image, ImageDraw\n",
        "import clip\n",
        "import matplotlib.pyplot as plt\n",
        "import numpy as np\n",
        "\n",
        "# Function to allow user to mark defects on the image\n",
        "def mark_defect(image_path):\n",
        "    img = Image.open(image_path).convert(\"RGBA\")\n",
        "    plt.figure(figsize=(10, 10))\n",
        "    plt.imshow(img)\n",
        "    points = plt.ginput(n=1, timeout=0)\n",
        "    plt.close()\n",
        "    return points[0]\n",
        "\n",
        "# Load the CLIP model and the preprocess function\n",
        "model, preprocess = clip.load(\"ViT-B/32\", device='cuda' if torch.cuda.is_available() else 'cpu')\n",
        "\n",
        "# Specify the path to your uploaded image\n",
        "img_path = \"/content/drive/My Drive/TDJORAF438.jpg\"\n",
        "\n",
        "# Preprocess the image and move it to the appropriate device\n",
        "original_image = Image.open(img_path).convert(\"RGBA\")\n",
        "image = preprocess(original_image).unsqueeze(0).to('cuda' if torch.cuda.is_available() else 'cpu')\n",
        "\n",
        "# Tokenize the text inputs and move them to the appropriate device\n",
        "text_inputs = clip.tokenize([\"OK\", \"Scratch\", \"Dent\"]).to('cuda' if torch.cuda.is_available() else 'cpu')\n",
        "\n",
        "# Encode the image and text features\n",
        "with torch.no_grad():\n",
        "    image_features = model.encode_image(image)\n",
        "    text_features = model.encode_text(text_inputs)\n",
        "\n",
        "# Compute cosine similarity between image and text features\n",
        "similarity = torch.nn.functional.cosine_similarity(image_features, text_features)\n",
        "\n",
        "# Get the predicted class based on the highest similarity score\n",
        "predicted_class = [\"OK\", \"Scratch\", \"Dent\"][similarity.argmax()]\n",
        "\n",
        "# Print the predicted defect type\n",
        "print(f\"Predicted defect type: {predicted_class}\")\n",
        "\n",
        "# Display the preprocessed image\n",
        "preprocessed_image = image.squeeze().permute(1, 2, 0).cpu().numpy()\n",
        "plt.figure(figsize=(10, 10))\n",
        "plt.imshow(preprocessed_image)\n",
        "plt.axis('off')\n",
        "plt.title(\"Preprocessed Image\")\n",
        "plt.show()\n",
        "\n",
        "# Allow user to mark the defect on the final image\n",
        "draw = ImageDraw.Draw(original_image)\n",
        "\n",
        "# Mark defect if predicted class is not \"OK\"\n",
        "if predicted_class != \"OK\":\n",
        "    defect_point = mark_defect(img_path)\n",
        "    draw.rectangle([defect_point[0] - 10, defect_point[1] - 10, defect_point[0] + 10, defect_point[1] + 10], outline=\"red\", width=5)\n",
        "\n",
        "# Display the final image with the defect marked\n",
        "plt.figure(figsize=(10, 10))\n",
        "plt.imshow(original_image)\n",
        "plt.axis('off')\n",
        "plt.title(f\"Predicted Defect: {predicted_class}\")\n",
        "plt.show()\n"
      ],
      "metadata": {
        "id": "Js4UBR6SPJRo"
      },
      "execution_count": null,
      "outputs": []
    },
    {
      "cell_type": "code",
      "source": [
        "import torch\n",
        "from PIL import Image, ImageDraw\n",
        "import clip\n",
        "import matplotlib.pyplot as plt\n",
        "\n",
        "# Load the CLIP model and the preprocess function\n",
        "model, preprocess = clip.load(\"ViT-B/32\", device='cuda' if torch.cuda.is_available() else 'cpu')\n",
        "\n",
        "# Specify the path to your uploaded image\n",
        "img_path = \"/content/drive/My Drive/TDJORAF438.jpg\"\n",
        "\n",
        "# Preprocess the image and move it to the appropriate device\n",
        "image = preprocess(Image.open(img_path)).unsqueeze(0).to('cuda' if torch.cuda.is_available() else 'cpu')\n",
        "\n",
        "# Tokenize the text inputs and move them to the appropriate device\n",
        "text_inputs = clip.tokenize([\"OK\", \"Scratch\", \"Dent\"]).to('cuda' if torch.cuda.is_available() else 'cpu')\n",
        "\n",
        "# Encode the image and text features\n",
        "with torch.no_grad():\n",
        "    image_features = model.encode_image(image)\n",
        "    text_features = model.encode_text(text_inputs)\n",
        "\n",
        "# Compute cosine similarity between image and text features\n",
        "similarity = torch.nn.functional.cosine_similarity(image_features, text_features)\n",
        "\n",
        "# Get the predicted class based on the highest similarity score\n",
        "predicted_class = [\"OK\", \"Scratch\", \"Dent\"][similarity.argmax()]\n",
        "\n",
        "# Print the predicted defect type\n",
        "print(f\"Predicted defect type: {predicted_class}\")\n",
        "\n",
        "# Display the preprocessed image\n",
        "preprocessed_image = image.squeeze().permute(1, 2, 0).cpu().numpy()\n",
        "plt.imshow(preprocessed_image)\n",
        "plt.axis('off')\n",
        "plt.title(\"Preprocessed Image\")\n",
        "plt.show()\n",
        "\n",
        "# Mark the defect on the final image\n",
        "original_image = Image.open(img_path).convert(\"RGBA\")\n",
        "draw = ImageDraw.Draw(original_image)\n",
        "\n",
        "# Example: Draw a rectangle around the defect (You can adjust the coordinates as needed)\n",
        "if predicted_class != \"OK\":\n",
        "    draw.rectangle([(50, 50), (174, 174)], outline=\"red\", width=5)\n",
        "\n",
        "# Display the final image with the defect marked\n",
        "plt.imshow(original_image)\n",
        "plt.axis('off')\n",
        "plt.title(f\"Predicted Defect: {predicted_class}\")\n",
        "plt.show()\n"
      ],
      "metadata": {
        "id": "pFFZ_-U2QCG1"
      },
      "execution_count": null,
      "outputs": []
    },
    {
      "cell_type": "code",
      "source": [],
      "metadata": {
        "id": "B6rqrfCnQDG8"
      },
      "execution_count": null,
      "outputs": []
    }
  ],
  "metadata": {
    "colab": {
      "name": "Forms",
      "toc_visible": true,
      "provenance": [],
      "history_visible": true,
      "gpuType": "T4",
      "include_colab_link": true
    },
    "kernelspec": {
      "display_name": "Python 3",
      "name": "python3"
    },
    "accelerator": "GPU"
  },
  "nbformat": 4,
  "nbformat_minor": 0
}